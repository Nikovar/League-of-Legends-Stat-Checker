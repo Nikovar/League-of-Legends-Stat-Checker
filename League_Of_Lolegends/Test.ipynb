{
 "cells": [
  {
   "cell_type": "code",
   "execution_count": null,
   "metadata": {},
   "outputs": [],
   "source": [
    "from riotwatcher import RiotWatcher, ApiError\n",
    "\n",
    "watcher = RiotWatcher('RGAPI-1ec3b662-f0fc-4ea2-b8fb-d428e07e6133')\n",
    "\n",
    "my_region = 'ru'\n",
    "\n",
    "me = watcher.summoner.by_name(my_region, 'Nekovar')\n",
    "print(me)\n",
    "\n",
    "# all objects are returned (by default) as a dict\n",
    "# lets see if I got diamond yet (I probably didn't)\n",
    "my_ranked_stats = watcher.league.by_summoner(my_region, me['id'])\n",
    "print(my_ranked_stats)\n",
    "\n",
    "# Lets get some champions\n",
    "static_champ_list = watcher.static_data.champions(my_region)\n",
    "print(static_champ_list)\n",
    "\n",
    "# For Riot's API, the 404 status code indicates that the requested data wasn't found and\n",
    "# should be expected to occur in normal operation, as in the case of a an\n",
    "# invalid summoner name, match ID, etc.\n",
    "#\n",
    "# The 429 status code indicates that the user has sent too many requests\n",
    "# in a given amount of time (\"rate limiting\").\n",
    "check_summoner('Nekovar')"
   ]
  },
  {
   "cell_type": "code",
   "execution_count": null,
   "metadata": {},
   "outputs": [],
   "source": [
    "def check_summoner(name):\n",
    "    try:\n",
    "        response = watcher.summoner.by_name(my_region, 'this_is_probably_not_anyones_summoner_name')\n",
    "    except ApiError as err:\n",
    "        if err.response.status_code == 429:\n",
    "            print('We should retry in {} seconds.'.format(err.response.headers['Retry-After']))\n",
    "            print('this retry-after is handled by default by the RiotWatcher library')\n",
    "            print('future requests wait until the retry-after time passes')\n",
    "        elif err.response.status_code == 404:\n",
    "            print('Summoner with that ridiculous name not found.')\n",
    "        else:\n",
    "            raise"
   ]
  },
  {
   "cell_type": "code",
   "execution_count": null,
   "metadata": {},
   "outputs": [],
   "source": [
    "watcher = RiotWatcher('RGAPI-1ec3b662-f0fc-4ea2-b8fb-d428e07e6133')\n",
    "\n",
    "my_region = 'ru'\n",
    "\n",
    "me = watcher.summoner.by_name(my_region, 'Nekovar')\n",
    "print(me)\n",
    "print(watcher)"
   ]
  },
  {
   "cell_type": "code",
   "execution_count": 35,
   "metadata": {},
   "outputs": [
    {
     "name": "stdout",
     "output_type": "stream",
     "text": [
      "Введите имя пользователя с учетом регистра\n",
      "MrNickWhite\n",
      "MrNickWhite is a level 58 summoner on the Region.russia server.\n",
      "Making call: https://ru.api.riotgames.com/lol/match/v4/matchlists/by-account/56nlWYoOlyQGnmlQS5JxYZXe56C-uyzvtXuBmC-FNQLxpX4?beginIndex=0&endIndex=30\n",
      "Персонаж Фиора был выбран 12 раз за последние 30 игр\n",
      "Персонаж Джакс был выбран 2 раз за последние 30 игр , Уровень мастерства >= 5\n",
      "Персонаж Насус был выбран 1 раз за последние 30 игр , Уровень мастерства >= 5\n",
      "Персонаж Мордекайзер был выбран 12 раз за последние 30 игр , Уровень мастерства >= 5\n",
      "Персонаж Варвик был выбран 1 раз за последние 30 игр\n",
      "Персонаж Эш был выбран 2 раз за последние 30 игр\n",
      "['Насус']\n"
     ]
    }
   ],
   "source": [
    "import cassiopeia as cass\n",
    "\n",
    "cass.set_riot_api_key(\"RGAPI-64ff5ac2-e5eb-4d8b-9296-e85fa51f1fa9\")  # This overrides the value set in your configuration/settings.\n",
    "cass.set_default_region(\"RU\")\n",
    "print('Введите имя пользователя с учетом регистра')\n",
    "s_name=str(input())\n",
    "s_summoner = cass.get_summoner(name=s_name)\n",
    "print(\"{name} is a level {level} summoner on the {region} server.\".format(name=s_summoner.name,\n",
    "                                                                          level=s_summoner.level,\n",
    "                                                                         region=s_summoner.region))\n",
    "\n",
    "champ_dict={}\n",
    "hist = cass.get_match_history(summoner=s_summoner,begin_index=0,end_index=30)\n",
    "for i in hist:\n",
    "    champion_played=i.participants[s_summoner].champion.name\n",
    "    if champion_played in champ_dict:\n",
    "        champ_dict[champion_played]+=1\n",
    "    else:\n",
    "        champ_dict[champion_played]=1\n",
    "\n",
    "good_with = s_summoner.champion_masteries.filter(lambda cm: cm.level >= 5)\n",
    "for i in champ_dict:\n",
    "    output='Персонаж {} был выбран {} раз за последние 30 игр'.format(i,champ_dict[i])\n",
    "    if i in good_with:\n",
    "        output+=' , Уровень мастерства >= 5'\n",
    "    print(output)\n",
    "good_with = s_summoner.champion_masteries.filter(lambda cm: cm.level >= 6)\n",
    "print('\\n')\n",
    "print('\\n')\n",
    "print('Персонажи, на котором >6 ')\n",
    "print([cm.champion.name for cm in good_with])"
   ]
  },
  {
   "cell_type": "code",
   "execution_count": 30,
   "metadata": {},
   "outputs": [
    {
     "ename": "AttributeError",
     "evalue": "'ChampionMasteries' object has no attribute 'champions'",
     "output_type": "error",
     "traceback": [
      "\u001b[1;31m---------------------------------------------------------------------------\u001b[0m",
      "\u001b[1;31mAttributeError\u001b[0m                            Traceback (most recent call last)",
      "\u001b[1;32m<ipython-input-30-9b7c00442540>\u001b[0m in \u001b[0;36m<module>\u001b[1;34m\u001b[0m\n\u001b[0;32m      1\u001b[0m \u001b[0mmast\u001b[0m \u001b[1;33m=\u001b[0m \u001b[0mcass\u001b[0m\u001b[1;33m.\u001b[0m\u001b[0mget_champion_masteries\u001b[0m\u001b[1;33m(\u001b[0m\u001b[0msummoner\u001b[0m\u001b[1;33m=\u001b[0m\u001b[0ms_summoner\u001b[0m\u001b[1;33m)\u001b[0m\u001b[1;33m\u001b[0m\u001b[1;33m\u001b[0m\u001b[0m\n\u001b[1;32m----> 2\u001b[1;33m \u001b[0mprint\u001b[0m\u001b[1;33m(\u001b[0m\u001b[0mmast\u001b[0m\u001b[1;33m.\u001b[0m\u001b[0mchampions\u001b[0m\u001b[1;33m)\u001b[0m\u001b[1;33m\u001b[0m\u001b[1;33m\u001b[0m\u001b[0m\n\u001b[0m",
      "\u001b[1;31mAttributeError\u001b[0m: 'ChampionMasteries' object has no attribute 'champions'"
     ]
    }
   ],
   "source": [
    "mast = cass.get_champion_masteries(summoner=s_summoner)\n",
    "print(mast.champions)"
   ]
  },
  {
   "cell_type": "code",
   "execution_count": null,
   "metadata": {},
   "outputs": [],
   "source": [
    "from cassiopeia import Summoner\n",
    "print('Введите имя с учетом регистра')\n",
    "summ_name=str(input())\n",
    "target_summoner = Summoner(name=summ_name, region=\"RU\")"
   ]
  },
  {
   "cell_type": "code",
   "execution_count": null,
   "metadata": {},
   "outputs": [],
   "source": [
    "print(target_summoner.match_history)"
   ]
  },
  {
   "cell_type": "code",
   "execution_count": null,
   "metadata": {},
   "outputs": [],
   "source": []
  }
 ],
 "metadata": {
  "kernelspec": {
   "display_name": "Python 3",
   "language": "python",
   "name": "python3"
  }
 },
 "nbformat": 4,
 "nbformat_minor": 2
}
